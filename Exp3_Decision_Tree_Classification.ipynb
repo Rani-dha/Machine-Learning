{
  "nbformat": 4,
  "nbformat_minor": 0,
  "metadata": {
    "colab": {
      "name": "Exp3 Decision Tree Classification.ipynb",
      "provenance": [],
      "include_colab_link": true
    },
    "kernelspec": {
      "name": "python3",
      "display_name": "Python 3"
    }
  },
  "cells": [
    {
      "cell_type": "markdown",
      "metadata": {
        "id": "view-in-github",
        "colab_type": "text"
      },
      "source": [
        "<a href=\"https://colab.research.google.com/github/Rani-dha/Machine-Learning/blob/master/Exp3_Decision_Tree_Classification.ipynb\" target=\"_parent\"><img src=\"https://colab.research.google.com/assets/colab-badge.svg\" alt=\"Open In Colab\"/></a>"
      ]
    },
    {
      "cell_type": "code",
      "metadata": {
        "id": "FZO6iYLaO4M7"
      },
      "source": [
        "import pandas as pd\r\n",
        "\r\n",
        "df = pd.read_csv('train.csv', index_col='PassengerId')"
      ],
      "execution_count": null,
      "outputs": []
    },
    {
      "cell_type": "code",
      "metadata": {
        "colab": {
          "base_uri": "https://localhost:8080/"
        },
        "id": "KMDsANWrRvrE",
        "outputId": "d23aec18-5d54-4155-f586-aaad0c585a25"
      },
      "source": [
        "print(df.head())"
      ],
      "execution_count": null,
      "outputs": [
        {
          "output_type": "stream",
          "text": [
            "             Pclass  Sex   Age  SibSp  Parch     Fare  Survived\n",
            "PassengerId                                                    \n",
            "1                 3    0  22.0      1      0   7.2500         0\n",
            "2                 1    1  38.0      1      0  71.2833         1\n",
            "3                 3    1  26.0      0      0   7.9250         1\n",
            "4                 1    1  35.0      1      0  53.1000         1\n",
            "5                 3    0  35.0      0      0   8.0500         0\n"
          ],
          "name": "stdout"
        }
      ]
    },
    {
      "cell_type": "code",
      "metadata": {
        "id": "_xf45IfqSCQE"
      },
      "source": [
        "df = df[['Pclass', 'Sex', 'Age', 'SibSp', 'Parch', 'Fare', 'Survived']]"
      ],
      "execution_count": null,
      "outputs": []
    },
    {
      "cell_type": "code",
      "metadata": {
        "id": "wN1WXVXCSE17"
      },
      "source": [
        "df['Sex'] = df['Sex'].map({'male': 0, 'female': 1})"
      ],
      "execution_count": null,
      "outputs": []
    },
    {
      "cell_type": "code",
      "metadata": {
        "id": "8-qxpPmhSHLu"
      },
      "source": [
        "df = df.dropna()"
      ],
      "execution_count": null,
      "outputs": []
    },
    {
      "cell_type": "code",
      "metadata": {
        "id": "UhlMoncvSLzf"
      },
      "source": [
        "X = df.drop('Survived', axis=1)\r\n",
        "y = df['Survived']"
      ],
      "execution_count": null,
      "outputs": []
    },
    {
      "cell_type": "code",
      "metadata": {
        "id": "9cXU6-JoSPk9"
      },
      "source": [
        "from sklearn.model_selection import train_test_split\r\n",
        "\r\n",
        "X_train, X_test, y_train, y_test = train_test_split(X, y, random_state=1)"
      ],
      "execution_count": null,
      "outputs": []
    },
    {
      "cell_type": "code",
      "metadata": {
        "id": "KoWfB70YSSY_"
      },
      "source": [
        "from sklearn import tree\r\n",
        "\r\n",
        "model = tree.DecisionTreeClassifier()"
      ],
      "execution_count": null,
      "outputs": []
    },
    {
      "cell_type": "code",
      "metadata": {
        "colab": {
          "base_uri": "https://localhost:8080/"
        },
        "id": "gClz-aeWSuLf",
        "outputId": "08ed9bbd-8ea9-4f88-87bb-91800b690421"
      },
      "source": [
        "model"
      ],
      "execution_count": null,
      "outputs": [
        {
          "output_type": "execute_result",
          "data": {
            "text/plain": [
              "DecisionTreeClassifier(ccp_alpha=0.0, class_weight=None, criterion='gini',\n",
              "                       max_depth=None, max_features=None, max_leaf_nodes=None,\n",
              "                       min_impurity_decrease=0.0, min_impurity_split=None,\n",
              "                       min_samples_leaf=1, min_samples_split=2,\n",
              "                       min_weight_fraction_leaf=0.0, presort='deprecated',\n",
              "                       random_state=None, splitter='best')"
            ]
          },
          "metadata": {
            "tags": []
          },
          "execution_count": 51
        }
      ]
    },
    {
      "cell_type": "code",
      "metadata": {
        "colab": {
          "base_uri": "https://localhost:8080/"
        },
        "id": "vhN2D4NfSzJt",
        "outputId": "66beea0b-c8e0-412e-9fc5-2a550ec15833"
      },
      "source": [
        "model.fit(X_train, y_train)"
      ],
      "execution_count": null,
      "outputs": [
        {
          "output_type": "execute_result",
          "data": {
            "text/plain": [
              "DecisionTreeClassifier(ccp_alpha=0.0, class_weight=None, criterion='gini',\n",
              "                       max_depth=None, max_features=None, max_leaf_nodes=None,\n",
              "                       min_impurity_decrease=0.0, min_impurity_split=None,\n",
              "                       min_samples_leaf=1, min_samples_split=2,\n",
              "                       min_weight_fraction_leaf=0.0, presort='deprecated',\n",
              "                       random_state=None, splitter='best')"
            ]
          },
          "metadata": {
            "tags": []
          },
          "execution_count": 52
        }
      ]
    },
    {
      "cell_type": "code",
      "metadata": {
        "colab": {
          "base_uri": "https://localhost:8080/"
        },
        "id": "kr2g_2seS37q",
        "outputId": "c2dabc54-9134-4d4b-8710-1084136047f8"
      },
      "source": [
        "y_predict = model.predict(X_test)\r\n",
        "\r\n",
        "from sklearn.metrics import accuracy_score\r\n",
        "\r\n",
        "accuracy_score(y_test, y_predict)"
      ],
      "execution_count": null,
      "outputs": [
        {
          "output_type": "execute_result",
          "data": {
            "text/plain": [
              "0.8156424581005587"
            ]
          },
          "metadata": {
            "tags": []
          },
          "execution_count": 53
        }
      ]
    },
    {
      "cell_type": "code",
      "metadata": {
        "colab": {
          "base_uri": "https://localhost:8080/",
          "height": 106
        },
        "id": "sSAXmBYHS7oe",
        "outputId": "79771986-eec9-4574-f8c3-05750e1c903f"
      },
      "source": [
        "from sklearn.metrics import confusion_matrix\r\n",
        "\r\n",
        "pd.DataFrame(\r\n",
        "    confusion_matrix(y_test, y_predict),\r\n",
        "    columns=['Predicted Not Survival', 'Predicted Survival'],\r\n",
        "    index=['True Not Survival', 'True Survival']\r\n",
        ")"
      ],
      "execution_count": null,
      "outputs": [
        {
          "output_type": "execute_result",
          "data": {
            "text/html": [
              "<div>\n",
              "<style scoped>\n",
              "    .dataframe tbody tr th:only-of-type {\n",
              "        vertical-align: middle;\n",
              "    }\n",
              "\n",
              "    .dataframe tbody tr th {\n",
              "        vertical-align: top;\n",
              "    }\n",
              "\n",
              "    .dataframe thead th {\n",
              "        text-align: right;\n",
              "    }\n",
              "</style>\n",
              "<table border=\"1\" class=\"dataframe\">\n",
              "  <thead>\n",
              "    <tr style=\"text-align: right;\">\n",
              "      <th></th>\n",
              "      <th>Predicted Not Survival</th>\n",
              "      <th>Predicted Survival</th>\n",
              "    </tr>\n",
              "  </thead>\n",
              "  <tbody>\n",
              "    <tr>\n",
              "      <th>True Not Survival</th>\n",
              "      <td>96</td>\n",
              "      <td>16</td>\n",
              "    </tr>\n",
              "    <tr>\n",
              "      <th>True Survival</th>\n",
              "      <td>17</td>\n",
              "      <td>50</td>\n",
              "    </tr>\n",
              "  </tbody>\n",
              "</table>\n",
              "</div>"
            ],
            "text/plain": [
              "                   Predicted Not Survival  Predicted Survival\n",
              "True Not Survival                      96                  16\n",
              "True Survival                          17                  50"
            ]
          },
          "metadata": {
            "tags": []
          },
          "execution_count": 54
        }
      ]
    },
    {
      "cell_type": "code",
      "metadata": {
        "colab": {
          "base_uri": "https://localhost:8080/"
        },
        "id": "sq418XPkTJQ_",
        "outputId": "d2285452-2b14-4fd5-a128-c873bc31dfb2"
      },
      "source": [
        "from subprocess import call\r\n",
        "\r\n",
        "call(['dot', '-T', 'png', 'tree.dot', '-o', 'tree.png'])"
      ],
      "execution_count": null,
      "outputs": [
        {
          "output_type": "execute_result",
          "data": {
            "text/plain": [
              "2"
            ]
          },
          "metadata": {
            "tags": []
          },
          "execution_count": 55
        }
      ]
    },
    {
      "cell_type": "code",
      "metadata": {
        "id": "eSq4DGNBWHan"
      },
      "source": [
        "def get_gini_impurity(survived_count, total_count):\r\n",
        "    survival_prob = survived_count/total_count\r\n",
        "    not_survival_prob = (1 - survival_prob)\r\n",
        "    random_observation_survived_prob = survival_prob\r\n",
        "    random_observation_not_survived_prob = (1 - random_observation_survived_prob)\r\n",
        "    mislabelling_survided_prob = not_survival_prob * random_observation_survived_prob\r\n",
        "    mislabelling_not_survided_prob = survival_prob * random_observation_not_survived_prob\r\n",
        "    gini_impurity = mislabelling_survided_prob + mislabelling_not_survided_prob\r\n",
        "    return gini_impurity"
      ],
      "execution_count": null,
      "outputs": []
    },
    {
      "cell_type": "code",
      "metadata": {
        "colab": {
          "base_uri": "https://localhost:8080/"
        },
        "id": "VlHue6ngWNHI",
        "outputId": "a0db29f9-9616-48a0-eec0-05dacd326fb3"
      },
      "source": [
        "gini_impurity_starting_node = get_gini_impurity(342, 891)\r\n",
        "gini_impurity_starting_node"
      ],
      "execution_count": null,
      "outputs": [
        {
          "output_type": "execute_result",
          "data": {
            "text/plain": [
              "0.47301295786144265"
            ]
          },
          "metadata": {
            "tags": []
          },
          "execution_count": 57
        }
      ]
    },
    {
      "cell_type": "code",
      "metadata": {
        "colab": {
          "base_uri": "https://localhost:8080/"
        },
        "id": "joXEP-g4WQph",
        "outputId": "72c0433d-8410-4bd0-90bb-76aa5774081b"
      },
      "source": [
        "gini_impurity_men = get_gini_impurity(109, 577)\r\n",
        "gini_impurity_men"
      ],
      "execution_count": null,
      "outputs": [
        {
          "output_type": "execute_result",
          "data": {
            "text/plain": [
              "0.3064437162277843"
            ]
          },
          "metadata": {
            "tags": []
          },
          "execution_count": 58
        }
      ]
    },
    {
      "cell_type": "code",
      "metadata": {
        "colab": {
          "base_uri": "https://localhost:8080/"
        },
        "id": "5tgZAmwRWUhb",
        "outputId": "e910bd8f-f6f2-4ee1-ecc6-fa032f5e3ef9"
      },
      "source": [
        "gini_impurity_women = get_gini_impurity(233, 314)\r\n",
        "gini_impurity_women"
      ],
      "execution_count": null,
      "outputs": [
        {
          "output_type": "execute_result",
          "data": {
            "text/plain": [
              "0.3828350034484158"
            ]
          },
          "metadata": {
            "tags": []
          },
          "execution_count": 59
        }
      ]
    }
  ]
}